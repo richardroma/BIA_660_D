{
 "cells": [
  {
   "cell_type": "code",
   "execution_count": 26,
   "metadata": {
    "collapsed": true
   },
   "outputs": [],
   "source": [
    "import pandas as pd\n",
    "import numpy as np\n",
    "import matplotlib.pyplot as plt\n",
    "\n",
    "df = pd.read_json('/Users/rickroma/PycharmProjects/BIA_660_D/Assignment_03/reviews.json')"
   ]
  },
  {
   "cell_type": "code",
   "execution_count": 27,
   "metadata": {},
   "outputs": [
    {
     "data": {
      "text/plain": [
       "date        1250\nheadline    1250\nname        1250\nstars       1250\ntext        1250\ndtype: int64"
      ]
     },
     "execution_count": 27,
     "metadata": {},
     "output_type": "execute_result"
    }
   ],
   "source": [
    "df.count()"
   ]
  },
  {
   "cell_type": "code",
   "execution_count": 28,
   "metadata": {},
   "outputs": [
    {
     "data": {
      "text/html": [
       "<div>\n",
       "<style>\n",
       "    .dataframe thead tr:only-child th {\n",
       "        text-align: right;\n",
       "    }\n",
       "\n",
       "    .dataframe thead th {\n",
       "        text-align: left;\n",
       "    }\n",
       "\n",
       "    .dataframe tbody tr th {\n",
       "        vertical-align: top;\n",
       "    }\n",
       "</style>\n",
       "<table border=\"1\" class=\"dataframe\">\n",
       "  <thead>\n",
       "    <tr style=\"text-align: right;\">\n",
       "      <th></th>\n",
       "      <th>date</th>\n",
       "      <th>headline</th>\n",
       "      <th>name</th>\n",
       "      <th>stars</th>\n",
       "      <th>text</th>\n",
       "      <th>month</th>\n",
       "    </tr>\n",
       "  </thead>\n",
       "  <tbody>\n",
       "    <tr>\n",
       "      <th>0</th>\n",
       "      <td>2017-03-04</td>\n",
       "      <td>Quality made and a fantastic deal!  Let me sho...</td>\n",
       "      <td>GardenGuy</td>\n",
       "      <td>5</td>\n",
       "      <td>These Rockbirds LED Flashlights I bought came...</td>\n",
       "      <td>2017-03</td>\n",
       "    </tr>\n",
       "    <tr>\n",
       "      <th>1</th>\n",
       "      <td>2018-02-10</td>\n",
       "      <td>Miniature in size &amp; price, but big on light ou...</td>\n",
       "      <td>NSB</td>\n",
       "      <td>4</td>\n",
       "      <td>Given my many prior, poor experiences with sev...</td>\n",
       "      <td>2018-02</td>\n",
       "    </tr>\n",
       "    <tr>\n",
       "      <th>10</th>\n",
       "      <td>2017-12-10</td>\n",
       "      <td>Not happy with modes!!!!</td>\n",
       "      <td>BillyBobBooooooJohnson</td>\n",
       "      <td>2</td>\n",
       "      <td>I ordered similar lights to this in the past.....</td>\n",
       "      <td>2017-12</td>\n",
       "    </tr>\n",
       "    <tr>\n",
       "      <th>100</th>\n",
       "      <td>2017-07-13</td>\n",
       "      <td>Perfect size for dusk dog walking</td>\n",
       "      <td>Crazy Cattle Dog Lady</td>\n",
       "      <td>5</td>\n",
       "      <td>I bought these in lightening deal not entirely...</td>\n",
       "      <td>2017-07</td>\n",
       "    </tr>\n",
       "    <tr>\n",
       "      <th>1000</th>\n",
       "      <td>2017-08-12</td>\n",
       "      <td>Five Stars</td>\n",
       "      <td>Mike</td>\n",
       "      <td>5</td>\n",
       "      <td>Great for the price!</td>\n",
       "      <td>2017-08</td>\n",
       "    </tr>\n",
       "    <tr>\n",
       "      <th>1001</th>\n",
       "      <td>2018-04-14</td>\n",
       "      <td>Five Stars</td>\n",
       "      <td>Josh</td>\n",
       "      <td>5</td>\n",
       "      <td>These lights are alot nicer than I expected fo...</td>\n",
       "      <td>2018-04</td>\n",
       "    </tr>\n",
       "    <tr>\n",
       "      <th>1002</th>\n",
       "      <td>2012-11-13</td>\n",
       "      <td>I like the light, durable and mobile</td>\n",
       "      <td>T A</td>\n",
       "      <td>4</td>\n",
       "      <td>Though I received it later than the expected d...</td>\n",
       "      <td>2012-11</td>\n",
       "    </tr>\n",
       "    <tr>\n",
       "      <th>1003</th>\n",
       "      <td>2014-11-24</td>\n",
       "      <td>Five Stars</td>\n",
       "      <td>Benb</td>\n",
       "      <td>5</td>\n",
       "      <td>Have given away several and have ordered more.</td>\n",
       "      <td>2014-11</td>\n",
       "    </tr>\n",
       "    <tr>\n",
       "      <th>1004</th>\n",
       "      <td>2012-12-18</td>\n",
       "      <td>nice flashlight</td>\n",
       "      <td>aong714</td>\n",
       "      <td>5</td>\n",
       "      <td>This is surprisingly bright for the size.  I l...</td>\n",
       "      <td>2012-12</td>\n",
       "    </tr>\n",
       "    <tr>\n",
       "      <th>1005</th>\n",
       "      <td>2017-09-27</td>\n",
       "      <td>Good buy.</td>\n",
       "      <td>Brent M.</td>\n",
       "      <td>5</td>\n",
       "      <td>Excellent quality.</td>\n",
       "      <td>2017-09</td>\n",
       "    </tr>\n",
       "  </tbody>\n",
       "</table>\n",
       "</div>"
      ],
      "text/plain": [
       "<div>\n",
       "<style>\n",
       "    .dataframe thead tr:only-child th {\n",
       "        text-align: right;\n",
       "    }\n",
       "\n",
       "    .dataframe thead th {\n",
       "        text-align: left;\n",
       "    }\n",
       "\n",
       "    .dataframe tbody tr th {\n",
       "        vertical-align: top;\n",
       "    }\n",
       "</style>\n",
       "<table border=\"1\" class=\"dataframe\">\n",
       "  <thead>\n",
       "    <tr style=\"text-align: right;\">\n",
       "      <th></th>\n",
       "      <th>date</th>\n",
       "      <th>headline</th>\n",
       "      <th>name</th>\n",
       "      <th>stars</th>\n",
       "      <th>text</th>\n",
       "      <th>month</th>\n",
       "    </tr>\n",
       "  </thead>\n",
       "  <tbody>\n",
       "    <tr>\n",
       "      <th>0</th>\n",
       "      <td>2017-03-04</td>\n",
       "      <td>Quality made and a fantastic deal!  Let me sho...</td>\n",
       "      <td>GardenGuy</td>\n",
       "      <td>5</td>\n",
       "      <td>These Rockbirds LED Flashlights I bought came...</td>\n",
       "      <td>2017-03</td>\n",
       "    </tr>\n",
       "    <tr>\n",
       "      <th>1</th>\n",
       "      <td>2018-02-10</td>\n",
       "      <td>Miniature in size &amp; price, but big on light ou...</td>\n",
       "      <td>NSB</td>\n",
       "      <td>4</td>\n",
       "      <td>Given my many prior, poor experiences with sev...</td>\n",
       "      <td>2018-02</td>\n",
       "    </tr>\n",
       "    <tr>\n",
       "      <th>10</th>\n",
       "      <td>2017-12-10</td>\n",
       "      <td>Not happy with modes!!!!</td>\n",
       "      <td>BillyBobBooooooJohnson</td>\n",
       "      <td>2</td>\n",
       "      <td>I ordered similar lights to this in the past.....</td>\n",
       "      <td>2017-12</td>\n",
       "    </tr>\n",
       "    <tr>\n",
       "      <th>100</th>\n",
       "      <td>2017-07-13</td>\n",
       "      <td>Perfect size for dusk dog walking</td>\n",
       "      <td>Crazy Cattle Dog Lady</td>\n",
       "      <td>5</td>\n",
       "      <td>I bought these in lightening deal not entirely...</td>\n",
       "      <td>2017-07</td>\n",
       "    </tr>\n",
       "    <tr>\n",
       "      <th>1000</th>\n",
       "      <td>2017-08-12</td>\n",
       "      <td>Five Stars</td>\n",
       "      <td>Mike</td>\n",
       "      <td>5</td>\n",
       "      <td>Great for the price!</td>\n",
       "      <td>2017-08</td>\n",
       "    </tr>\n",
       "    <tr>\n",
       "      <th>1001</th>\n",
       "      <td>2018-04-14</td>\n",
       "      <td>Five Stars</td>\n",
       "      <td>Josh</td>\n",
       "      <td>5</td>\n",
       "      <td>These lights are alot nicer than I expected fo...</td>\n",
       "      <td>2018-04</td>\n",
       "    </tr>\n",
       "    <tr>\n",
       "      <th>1002</th>\n",
       "      <td>2012-11-13</td>\n",
       "      <td>I like the light, durable and mobile</td>\n",
       "      <td>T A</td>\n",
       "      <td>4</td>\n",
       "      <td>Though I received it later than the expected d...</td>\n",
       "      <td>2012-11</td>\n",
       "    </tr>\n",
       "    <tr>\n",
       "      <th>1003</th>\n",
       "      <td>2014-11-24</td>\n",
       "      <td>Five Stars</td>\n",
       "      <td>Benb</td>\n",
       "      <td>5</td>\n",
       "      <td>Have given away several and have ordered more.</td>\n",
       "      <td>2014-11</td>\n",
       "    </tr>\n",
       "    <tr>\n",
       "      <th>1004</th>\n",
       "      <td>2012-12-18</td>\n",
       "      <td>nice flashlight</td>\n",
       "      <td>aong714</td>\n",
       "      <td>5</td>\n",
       "      <td>This is surprisingly bright for the size.  I l...</td>\n",
       "      <td>2012-12</td>\n",
       "    </tr>\n",
       "    <tr>\n",
       "      <th>1005</th>\n",
       "      <td>2017-09-27</td>\n",
       "      <td>Good buy.</td>\n",
       "      <td>Brent M.</td>\n",
       "      <td>5</td>\n",
       "      <td>Excellent quality.</td>\n",
       "      <td>2017-09</td>\n",
       "    </tr>\n",
       "  </tbody>\n",
       "</table>\n",
       "</div>"
      ]
     },
     "execution_count": 28,
     "metadata": {},
     "output_type": "execute_result"
    }
   ],
   "source": [
    "df['month'] = df['date'].dt.to_period('M')\n",
    "df.head(10)"
   ]
  },
  {
   "cell_type": "code",
   "execution_count": 29,
   "metadata": {},
   "outputs": [
    {
     "name": "stdout",
     "output_type": "stream",
     "text": [
      "month\n2012-11     46\n2012-12     42\n2013-01     37\n2013-02     22\n2013-03     22\n2013-04     14\n2013-05     24\n2013-06     19\n2013-07     15\n2013-08     12\n2013-09     10\n2013-10     14\n2013-11     23\n2013-12     16\n2014-01     13\n2014-02     13\n2014-03      8\n2014-04      2\n2014-05      3\n2014-06      4\n2014-07      5\n2014-08      3\n2014-09      3\n2014-10      6\n2014-11      8\n2014-12      7\n2015-01      6\n2015-02      5\n2015-03      3\n2015-04      5\n          ... \n2015-06      2\n2015-09      3\n2015-10      1\n2015-11      2\n2015-12      2\n2016-01      1\n2016-02      1\n2016-03      1\n2016-04      1\n2016-05      1\n2016-07      1\n2016-09      1\n2016-11     10\n2016-12     12\n2017-01     13\n2017-02     11\n2017-03     34\n2017-04     56\n2017-05     82\n2017-06     48\n2017-07     75\n2017-08     50\n2017-09    108\n2017-10     71\n2017-11     50\n2017-12     35\n2018-01     26\n2018-02     20\n2018-03     22\n2018-04     97\nFreq: M, Length: 61, dtype: int64\n"
     ]
    }
   ],
   "source": [
    "review_by_date = df.groupby('month').size()\n",
    "print(review_by_date)"
   ]
  },
  {
   "cell_type": "code",
   "execution_count": 64,
   "metadata": {},
   "outputs": [
    {
     "name": "stdout",
     "output_type": "stream",
     "text": [
      "1000 items in training data, 250 in test data\n"
     ]
    }
   ],
   "source": [
    "from sklearn.feature_extraction.text import CountVectorizer, TfidfTransformer\n",
    "\n",
    "import re\n",
    "import string\n",
    "import nltk\n",
    "\n",
    "cleanup_re = re.compile('[^a-z]+')\n",
    "def cleanup(sentence):\n",
    "    sentence = sentence.lower()\n",
    "    sentence = cleanup_re.sub(' ', sentence).strip()\n",
    "    #sentence = \" \".join(nltk.word_tokenize(sentence))\n",
    "    return sentence\n",
    "\n",
    "df[\"Text_Clean\"] = df[\"text\"].apply(cleanup)\n",
    "\n",
    "train, test = train_test_split(df, test_size=0.2)\n",
    "print(\"%d items in training data, %d in test data\" % (len(train), len(test)))"
   ]
  },
  {
   "cell_type": "code",
   "execution_count": 30,
   "metadata": {},
   "outputs": [
    {
     "data": {
      "image/png": "[encoded data removed]",
      "text/plain": [
       "<matplotlib.figure.Figure at 0x11dbb4320>"
      ]
     },
     "metadata": {},
     "output_type": "display_data"
    }
   ],
   "source": [
    "plot_by_month = review_by_date.plot(title='Monthly Reviews')\n",
    "plot_by_month.set_xlabel('Months')\n",
    "plot_by_month.set_ylabel('Total Reviews')\n",
    "plt.show()"
   ]
  },
  {
   "cell_type": "code",
   "execution_count": 49,
   "metadata": {},
   "outputs": [
    {
     "name": "stdout",
     "output_type": "stream",
     "text": [
      "# features: 3391\n# train records: 937\n# test records: 313\nModel Accuracy: 0.6517571884984026\n\n-Top 20 positive-\nCoefficient           Word\n   1.365796           junk\n   1.348271         return\n   1.100347            don\n   1.099033        returns\n   1.043341           poor\n   0.997090           didn\n   0.927102           week\n   0.910329           weak\n   0.845347        garbage\n   0.842131           uses\n   0.831406     unreliable\n   0.804610       stripped\n   0.783984           does\n   0.772199          tried\n   0.769239         expect\n   0.750234            doa\n   0.747072         heated\n   0.743579         worked\n   0.742016  disappointing\n   0.713739        threads\n\n-Top 20 negative-\nCoefficient       Word\n  -0.437321        car\n  -0.439051   brighter\n  -0.449976    compact\n  -0.485013   expected\n  -0.494824   powerful\n  -0.519894       pack\n  -0.519983     better\n  -0.550902       know\n  -0.567689      small\n  -0.586463     switch\n  -0.606185    awesome\n  -0.615939  excellent\n  -0.628622       like\n  -0.658555      price\n  -0.714623       size\n  -0.722207         aa\n  -0.762423       good\n  -0.816533       nice\n  -1.277605     bright\n  -1.387113      great\n"
     ]
    }
   ],
   "source": [
    "X = df['text']\n",
    "y = df['stars']\n",
    "\n",
    "c = CountVectorizer(stop_words = 'english')\n",
    "\n",
    "def text_fit(X, y, model,clf_model,coef_show=1):\n",
    "    \n",
    "    X_c = model.fit_transform(X)\n",
    "    print('# features: {}'.format(X_c.shape[1]))\n",
    "    X_train, X_test, y_train, y_test = train_test_split(X_c, y, random_state=0)\n",
    "    print('# train records: {}'.format(X_train.shape[0]))\n",
    "    print('# test records: {}'.format(X_test.shape[0]))\n",
    "    clf = clf_model.fit(X_train, y_train)\n",
    "    acc = clf.score(X_test, y_test)\n",
    "    print ('Model Accuracy: {}'.format(acc))\n",
    "    \n",
    "    if coef_show == 1: \n",
    "        w = model.get_feature_names()\n",
    "        coef = clf.coef_.tolist()[0]\n",
    "        coeff_df = pd.DataFrame({'Word' : w, 'Coefficient' : coef})\n",
    "        coeff_df = coeff_df.sort_values(['Coefficient', 'Word'], ascending=[0, 1])\n",
    "        print('')\n",
    "        print('-Top 20 positive-')\n",
    "        print(coeff_df.head(20).to_string(index=False))\n",
    "        print('')\n",
    "        print('-Top 20 negative-')        \n",
    "        print(coeff_df.tail(20).to_string(index=False))\n",
    "    \n",
    "    \n",
    "text_fit(X, y, c, LogisticRegression())"
   ]
  },
  {
   "cell_type": "code",
   "execution_count": 51,
   "metadata": {},
   "outputs": [
    {
     "name": "stdout",
     "output_type": "stream",
     "text": [
      "# features: 3391\n# train records: 937\n# test records: 313\nModel Accuracy: 0.5079872204472844\n"
     ]
    }
   ],
   "source": [
    "from sklearn.dummy import DummyClassifier\n",
    "text_fit(X, y, c, DummyClassifier(),0)"
   ]
  },
  {
   "cell_type": "code",
   "execution_count": 52,
   "metadata": {},
   "outputs": [
    {
     "name": "stdout",
     "output_type": "stream",
     "text": [
      "# features: 3391\n# train records: 937\n# test records: 313\nModel Accuracy: 0.6485623003194888\n\n-Top 20 positive-\nCoefficient           Word\n   1.727881           junk\n   1.297878         return\n   1.174736         worked\n   1.158953           does\n   1.113551           poor\n   1.109380        returns\n   1.074522            don\n   1.027624           didn\n   1.017470           weak\n   0.922824           week\n   0.922592          tried\n   0.836076     unreliable\n   0.830285          waste\n   0.822309       stripped\n   0.803753        garbage\n   0.762877            did\n   0.735101  disappointing\n   0.693499         heated\n   0.644504            doa\n   0.634336             ok\n\n-Top 20 negative-\nCoefficient         Word\n  -0.461704     powerful\n  -0.473498       switch\n  -0.477301       really\n  -0.484813          car\n  -0.534175      compact\n  -0.560390    excellent\n  -0.569881         like\n  -0.577120  flashlights\n  -0.582957         love\n  -0.588478      awesome\n  -0.607919       little\n  -0.671312           aa\n  -0.682799         size\n  -0.792747        light\n  -0.844086        small\n  -0.847063        price\n  -0.857574         nice\n  -0.964959         good\n  -1.679723       bright\n  -1.722044        great\n"
     ]
    }
   ],
   "source": [
    "tfidf = TfidfVectorizer(stop_words = 'english')\n",
    "text_fit(X, y, tfidf, LogisticRegression())"
   ]
  },
  {
   "cell_type": "code",
   "execution_count": 53,
   "metadata": {},
   "outputs": [
    {
     "name": "stdout",
     "output_type": "stream",
     "text": [
      "# features: 19689\n# train records: 937\n# test records: 313\nModel Accuracy: 0.6485623003194888\n"
     ]
    },
    {
     "name": "stdout",
     "output_type": "stream",
     "text": [
      "\n-Top 20 positive-\nCoefficient          Word\n   1.299775          junk\n   1.153848        worked\n   0.968969          weak\n   0.904930          does\n   0.883838        return\n   0.746423       returns\n   0.728907          poor\n   0.720301           don\n   0.677630          didn\n   0.627184          week\n   0.612462  returns good\n   0.600262         tried\n   0.592971     didn work\n   0.567817        ok kid\n   0.566031           did\n   0.551554    unreliable\n   0.546640         waste\n   0.541291  poor quality\n   0.538473      stripped\n   0.517280       garbage\n\n-Top 20 negative-\nCoefficient         Word\n  -0.327026       pocket\n  -0.332228      perfect\n  -0.335416          car\n  -0.337050     powerful\n  -0.376155         like\n  -0.385240      compact\n  -0.385249    excellent\n  -0.400034  flashlights\n  -0.425725      awesome\n  -0.431812           aa\n  -0.451676         love\n  -0.461728       little\n  -0.463553         size\n  -0.564188        light\n  -0.604330        small\n  -0.607619        price\n  -0.646475         nice\n  -0.717077         good\n  -1.229832       bright\n  -1.300231        great\n"
     ]
    }
   ],
   "source": [
    "tfidf_n = TfidfVectorizer(ngram_range=(1,2),stop_words = 'english')\n",
    "text_fit(X, y, tfidf_n, LogisticRegression())"
   ]
  },
  {
   "cell_type": "code",
   "execution_count": 31,
   "metadata": {},
   "outputs": [
    {
     "data": {
      "text/html": [
       "<div>\n",
       "<style>\n",
       "    .dataframe thead tr:only-child th {\n",
       "        text-align: right;\n",
       "    }\n",
       "\n",
       "    .dataframe thead th {\n",
       "        text-align: left;\n",
       "    }\n",
       "\n",
       "    .dataframe tbody tr th {\n",
       "        vertical-align: top;\n",
       "    }\n",
       "</style>\n",
       "<table border=\"1\" class=\"dataframe\">\n",
       "  <thead>\n",
       "    <tr style=\"text-align: right;\">\n",
       "      <th></th>\n",
       "      <th>date</th>\n",
       "      <th>headline</th>\n",
       "      <th>name</th>\n",
       "      <th>stars</th>\n",
       "      <th>text</th>\n",
       "      <th>month</th>\n",
       "      <th>good</th>\n",
       "    </tr>\n",
       "  </thead>\n",
       "  <tbody>\n",
       "    <tr>\n",
       "      <th>0</th>\n",
       "      <td>2017-03-04</td>\n",
       "      <td>Quality made and a fantastic deal!  Let me sho...</td>\n",
       "      <td>GardenGuy</td>\n",
       "      <td>5</td>\n",
       "      <td>These Rockbirds LED Flashlights I bought came...</td>\n",
       "      <td>2017-03</td>\n",
       "      <td>1</td>\n",
       "    </tr>\n",
       "    <tr>\n",
       "      <th>1</th>\n",
       "      <td>2018-02-10</td>\n",
       "      <td>Miniature in size &amp; price, but big on light ou...</td>\n",
       "      <td>NSB</td>\n",
       "      <td>4</td>\n",
       "      <td>Given my many prior, poor experiences with sev...</td>\n",
       "      <td>2018-02</td>\n",
       "      <td>1</td>\n",
       "    </tr>\n",
       "    <tr>\n",
       "      <th>10</th>\n",
       "      <td>2017-12-10</td>\n",
       "      <td>Not happy with modes!!!!</td>\n",
       "      <td>BillyBobBooooooJohnson</td>\n",
       "      <td>2</td>\n",
       "      <td>I ordered similar lights to this in the past.....</td>\n",
       "      <td>2017-12</td>\n",
       "      <td>0</td>\n",
       "    </tr>\n",
       "    <tr>\n",
       "      <th>100</th>\n",
       "      <td>2017-07-13</td>\n",
       "      <td>Perfect size for dusk dog walking</td>\n",
       "      <td>Crazy Cattle Dog Lady</td>\n",
       "      <td>5</td>\n",
       "      <td>I bought these in lightening deal not entirely...</td>\n",
       "      <td>2017-07</td>\n",
       "      <td>1</td>\n",
       "    </tr>\n",
       "    <tr>\n",
       "      <th>1000</th>\n",
       "      <td>2017-08-12</td>\n",
       "      <td>Five Stars</td>\n",
       "      <td>Mike</td>\n",
       "      <td>5</td>\n",
       "      <td>Great for the price!</td>\n",
       "      <td>2017-08</td>\n",
       "      <td>1</td>\n",
       "    </tr>\n",
       "  </tbody>\n",
       "</table>\n",
       "</div>"
      ],
      "text/plain": [
       "<div>\n",
       "<style>\n",
       "    .dataframe thead tr:only-child th {\n",
       "        text-align: right;\n",
       "    }\n",
       "\n",
       "    .dataframe thead th {\n",
       "        text-align: left;\n",
       "    }\n",
       "\n",
       "    .dataframe tbody tr th {\n",
       "        vertical-align: top;\n",
       "    }\n",
       "</style>\n",
       "<table border=\"1\" class=\"dataframe\">\n",
       "  <thead>\n",
       "    <tr style=\"text-align: right;\">\n",
       "      <th></th>\n",
       "      <th>date</th>\n",
       "      <th>headline</th>\n",
       "      <th>name</th>\n",
       "      <th>stars</th>\n",
       "      <th>text</th>\n",
       "      <th>month</th>\n",
       "      <th>good</th>\n",
       "    </tr>\n",
       "  </thead>\n",
       "  <tbody>\n",
       "    <tr>\n",
       "      <th>0</th>\n",
       "      <td>2017-03-04</td>\n",
       "      <td>Quality made and a fantastic deal!  Let me sho...</td>\n",
       "      <td>GardenGuy</td>\n",
       "      <td>5</td>\n",
       "      <td>These Rockbirds LED Flashlights I bought came...</td>\n",
       "      <td>2017-03</td>\n",
       "      <td>1</td>\n",
       "    </tr>\n",
       "    <tr>\n",
       "      <th>1</th>\n",
       "      <td>2018-02-10</td>\n",
       "      <td>Miniature in size &amp; price, but big on light ou...</td>\n",
       "      <td>NSB</td>\n",
       "      <td>4</td>\n",
       "      <td>Given my many prior, poor experiences with sev...</td>\n",
       "      <td>2018-02</td>\n",
       "      <td>1</td>\n",
       "    </tr>\n",
       "    <tr>\n",
       "      <th>10</th>\n",
       "      <td>2017-12-10</td>\n",
       "      <td>Not happy with modes!!!!</td>\n",
       "      <td>BillyBobBooooooJohnson</td>\n",
       "      <td>2</td>\n",
       "      <td>I ordered similar lights to this in the past.....</td>\n",
       "      <td>2017-12</td>\n",
       "      <td>0</td>\n",
       "    </tr>\n",
       "    <tr>\n",
       "      <th>100</th>\n",
       "      <td>2017-07-13</td>\n",
       "      <td>Perfect size for dusk dog walking</td>\n",
       "      <td>Crazy Cattle Dog Lady</td>\n",
       "      <td>5</td>\n",
       "      <td>I bought these in lightening deal not entirely...</td>\n",
       "      <td>2017-07</td>\n",
       "      <td>1</td>\n",
       "    </tr>\n",
       "    <tr>\n",
       "      <th>1000</th>\n",
       "      <td>2017-08-12</td>\n",
       "      <td>Five Stars</td>\n",
       "      <td>Mike</td>\n",
       "      <td>5</td>\n",
       "      <td>Great for the price!</td>\n",
       "      <td>2017-08</td>\n",
       "      <td>1</td>\n",
       "    </tr>\n",
       "  </tbody>\n",
       "</table>\n",
       "</div>"
      ]
     },
     "execution_count": 31,
     "metadata": {},
     "output_type": "execute_result"
    }
   ],
   "source": [
    "df.dropna(inplace=True)\n",
    "df[df['stars'] != 3]\n",
    "df['good'] = np.where(df['stars'] > 3, 1, 0)\n",
    "df.head()"
   ]
  },
  {
   "cell_type": "code",
   "execution_count": 32,
   "metadata": {},
   "outputs": [
    {
     "name": "stdout",
     "output_type": "stream",
     "text": [
      "867     I got a 2 pack on sale for like 8$. These are ...\n199     update. both flashlights have ceased working a...\n738     Great little flashlights. Very bright, work we...\n1085    Light has a strong blue tint, lens is plastic,...\n35      Always, always need flashlights in our house a...\n605                                         Great lights.\n852     One worked. The second one I could not get it ...\n1174    I was expecting too much out of these little g...\n726     drains my battery quick even when of, COULD BE...\n1162    I already had one & liked it,wanted to get add...\nName: text, dtype: object\n(937,)\n"
     ]
    }
   ],
   "source": [
    "from sklearn.model_selection import train_test_split\n",
    "\n",
    "X_train, X_test, y_train, y_test = train_test_split(df['text'], df['good'], random_state = 0)\n",
    "print(X_train.head(10))\n",
    "print(X_train.shape)"
   ]
  },
  {
   "cell_type": "code",
   "execution_count": 33,
   "metadata": {},
   "outputs": [
    {
     "data": {
      "text/plain": [
       "CountVectorizer(analyzer='word', binary=False, decode_error='strict',\n        dtype=<class 'numpy.int64'>, encoding='utf-8', input='content',\n        lowercase=True, max_df=1.0, max_features=None, min_df=1,\n        ngram_range=(1, 1), preprocessor=None, stop_words=None,\n        strip_accents=None, token_pattern='(?u)\\\\b\\\\w\\\\w+\\\\b',\n        tokenizer=None, vocabulary=None)"
      ]
     },
     "execution_count": 33,
     "metadata": {},
     "output_type": "execute_result"
    }
   ],
   "source": [
    "from sklearn.feature_extraction.text import CountVectorizer\n",
    "vect = CountVectorizer().fit(X_train)\n",
    "vect"
   ]
  },
  {
   "cell_type": "code",
   "execution_count": 34,
   "metadata": {},
   "outputs": [
    {
     "data": {
      "text/plain": [
       "['00', 'extending', 'pattern', 'waiting']"
      ]
     },
     "execution_count": 34,
     "metadata": {},
     "output_type": "execute_result"
    }
   ],
   "source": [
    "vect.get_feature_names()[::1000]"
   ]
  },
  {
   "cell_type": "code",
   "execution_count": 35,
   "metadata": {},
   "outputs": [
    {
     "data": {
      "text/plain": [
       "3155"
      ]
     },
     "execution_count": 35,
     "metadata": {},
     "output_type": "execute_result"
    }
   ],
   "source": [
    "len(vect.get_feature_names())"
   ]
  },
  {
   "cell_type": "code",
   "execution_count": 36,
   "metadata": {},
   "outputs": [
    {
     "data": {
      "text/plain": [
       "<937x3155 sparse matrix of type '<class 'numpy.int64'>'\n\twith 27055 stored elements in Compressed Sparse Row format>"
      ]
     },
     "execution_count": 36,
     "metadata": {},
     "output_type": "execute_result"
    }
   ],
   "source": [
    "X_train_vectorized = vect.transform(X_train)\n",
    "X_train_vectorized"
   ]
  },
  {
   "cell_type": "code",
   "execution_count": 37,
   "metadata": {},
   "outputs": [
    {
     "data": {
      "text/plain": [
       "LogisticRegression(C=1.0, class_weight=None, dual=False, fit_intercept=True,\n          intercept_scaling=1, max_iter=100, multi_class='ovr', n_jobs=1,\n          penalty='l2', random_state=None, solver='liblinear', tol=0.0001,\n          verbose=0, warm_start=False)"
      ]
     },
     "execution_count": 37,
     "metadata": {},
     "output_type": "execute_result"
    }
   ],
   "source": [
    "from sklearn.linear_model import LogisticRegression\n",
    "model = LogisticRegression()\n",
    "model.fit(X_train_vectorized, y_train)"
   ]
  },
  {
   "cell_type": "code",
   "execution_count": 38,
   "metadata": {},
   "outputs": [
    {
     "name": "stdout",
     "output_type": "stream",
     "text": [
      "AUC:  0.689796939797\n"
     ]
    }
   ],
   "source": [
    "from sklearn.metrics import roc_auc_score\n",
    "predictions = model.predict(vect.transform(X_test))\n",
    "print('AUC: ', roc_auc_score(y_test, predictions))"
   ]
  },
  {
   "cell_type": "code",
   "execution_count": 39,
   "metadata": {},
   "outputs": [
    {
     "name": "stdout",
     "output_type": "stream",
     "text": [
      "Smallest Coefs: \n['not' 'junk' 'after' 'receive' 'kid' 'weak' 'inside' 'vehicle' 'working'\n 'cheap' 'okay' 'stopped' 'don' 'didn' 'work' 'ok' 'poor' 'dim' 'return'\n 'returns' 'one' 'turn' 'worked' 'lumens' 'however']\n\nLargest Coefs: \n['great' 'little' 'carry' 'expected' 'excellent' 'nice' 'bright' 'price'\n 'awesome' 'car' 'have' 'compact' 'how' 'or' 'amazing' 'am' 'aa' 'bought'\n 'much' 'pocket' 'better' 'perfect' 'all' 'recommend' 'some']\n\n"
     ]
    }
   ],
   "source": [
    "feature_names = np.array(vect.get_feature_names())\n",
    "sorted_coef_index = model.coef_[0].argsort()\n",
    "print('Smallest Coefs: \\n{}\\n'.format(feature_names[sorted_coef_index[:25]]))\n",
    "print('Largest Coefs: \\n{}\\n'.format(feature_names[sorted_coef_index[:-26:-1]]))"
   ]
  },
  {
   "cell_type": "code",
   "execution_count": 40,
   "metadata": {},
   "outputs": [
    {
     "data": {
      "text/plain": [
       "752"
      ]
     },
     "execution_count": 40,
     "metadata": {},
     "output_type": "execute_result"
    }
   ],
   "source": [
    "from sklearn.feature_extraction.text import TfidfVectorizer\n",
    "vect = TfidfVectorizer(min_df = 5).fit(X_train)\n",
    "len(vect.get_feature_names())"
   ]
  },
  {
   "cell_type": "code",
   "execution_count": 41,
   "metadata": {},
   "outputs": [
    {
     "name": "stdout",
     "output_type": "stream",
     "text": [
      "AUC:  0.566352066352\n"
     ]
    }
   ],
   "source": [
    "X_train_vectorized = vect.transform(X_train)\n",
    "model = LogisticRegression()\n",
    "model.fit(X_train_vectorized, y_train)\n",
    "predictions = model.predict(vect.transform(X_test))\n",
    "print('AUC: ', roc_auc_score(y_test, predictions))"
   ]
  },
  {
   "cell_type": "code",
   "execution_count": 42,
   "metadata": {},
   "outputs": [
    {
     "name": "stdout",
     "output_type": "stream",
     "text": [
      "Smallest Tfidf: \n['rain' 'test' 'slides' 'main' 'customer' 'apparently' 'company' 'ring'\n 'head' 'rather' 'might' 'operate' 'cause' 'making' 'vendor' 'type'\n 'dimmer' 'stays' 'seemed' 'woods' 'turning' 'require' 'him' 'leds'\n 'annoying']\n\nLargest Tfidf: \n['great' 'perfect' 'like' 'good' 'weak' 'nice' 'bright' 'powerful' 'light'\n 'awesome' 'junk' 'okay' 'lite' 'item' 'value' 'no' 'deal' 'product' 'cool'\n 'dollar' 'inexpensive' 'thank' 'flash' 'lights' 'surprisingly']\n\n"
     ]
    }
   ],
   "source": [
    "feature_names = np.array(vect.get_feature_names())\n",
    "sorted_tfidf_index = X_train_vectorized.max(0).toarray()[0].argsort()\n",
    "print('Smallest Tfidf: \\n{}\\n'.format(feature_names[sorted_tfidf_index[:25]]))\n",
    "print('Largest Tfidf: \\n{}\\n'.format(feature_names[sorted_tfidf_index[:-26:-1]]))"
   ]
  },
  {
   "cell_type": "code",
   "execution_count": 43,
   "metadata": {},
   "outputs": [
    {
     "name": "stdout",
     "output_type": "stream",
     "text": [
      "[1 0 1 0]\n"
     ]
    }
   ],
   "source": [
    "print(model.predict(vect.transform(['Took a while since it shipped from China. It was worth the wait. Great little flashlight at a great price. Runs on 1 AA battery and puts out a lot of light.',\"\"\"Stopped working just after return period. Save your money.\"\"\",\"\"\"I received the product 2 weeks after ordering. There wasn't any documentation for it, but it's a put the battery in and push the button product. The zoom feature is quite bright. It makes a square with grid lines caused by the magnification of the led. Get past that, and it's functional. I tested the lumens against my 300lm streamlight, and it's very close, 225-275lm. I will be purchasing more as the flood focus is just as functional. Great product.\"\"\",\"\"\"Terrible. Did not light up consistently while pushing the button. Both flashlights had the same issue as they would eventually turn on after pushing the button repeatedly (5 or 6 times). These are junk.\"\"\"])))"
   ]
  },
  {
   "cell_type": "code",
   "execution_count": 44,
   "metadata": {},
   "outputs": [
    {
     "data": {
      "text/plain": [
       "1689"
      ]
     },
     "execution_count": 44,
     "metadata": {},
     "output_type": "execute_result"
    }
   ],
   "source": [
    "vect = CountVectorizer(min_df = 5, ngram_range = (1,2)).fit(X_train)\n",
    "X_train_vectorized = vect.transform(X_train)\n",
    "len(vect.get_feature_names())"
   ]
  },
  {
   "cell_type": "code",
   "execution_count": 45,
   "metadata": {},
   "outputs": [
    {
     "name": "stdout",
     "output_type": "stream",
     "text": [
      "AUC:  0.693657943658\n"
     ]
    }
   ],
   "source": [
    "model = LogisticRegression()\n",
    "model.fit(X_train_vectorized, y_train)\n",
    "predictions = model.predict(vect.transform(X_test))\n",
    "print('AUC: ', roc_auc_score(y_test, predictions))"
   ]
  },
  {
   "cell_type": "code",
   "execution_count": 46,
   "metadata": {},
   "outputs": [
    {
     "name": "stdout",
     "output_type": "stream",
     "text": [
      "Smallest Coef: \n['not' 'after' 'junk' 'inside' 'kid' 'cheap and' 'weak' 'okay' 'poor'\n 'work well' 'and that' 'good for' 'bright as' 'as bright' 'vehicle' 'ok'\n 'like the' 'bright but' 'dim' 'the other' 'work' 'working' 'lumens'\n 'cheap' 'the lights']\n\nLargest Coef: \n['great' 'nice' 'bright' 'very bright' 'excellent' 'they work' 'little'\n 'awesome' 'for the' 'better' 'carry' 'have' 'aa' 'expected' 'car' 'for my'\n 'compact' 'am' 'how' 'pocket' 'or' 'like' 'perfect' 'all the' 'the switch']\n\n"
     ]
    }
   ],
   "source": [
    "feature_names = np.array(vect.get_feature_names())\n",
    "sorted_coef_index = model.coef_[0].argsort()\n",
    "print('Smallest Coef: \\n{}\\n'.format(feature_names[sorted_coef_index][:25]))\n",
    "print('Largest Coef: \\n{}\\n'.format(feature_names[sorted_coef_index][:-26:-1]))"
   ]
  },
  {
   "cell_type": "code",
   "execution_count": 47,
   "metadata": {},
   "outputs": [
    {
     "name": "stdout",
     "output_type": "stream",
     "text": [
      "[1 0 0 0]\n"
     ]
    }
   ],
   "source": [
    "print(model.predict(vect.transform(['Took a while since it shipped from China. It was worth the wait. Great little flashlight at a great price. Runs on 1 AA battery and puts out a lot of light.',\"\"\"Stopped working just after return period. Save your money.\"\"\",\"\"\"I received the product 2 weeks after ordering. There wasn't any documentation for it, but it's a put the battery in and push the button product. The zoom feature is quite bright. It makes a square with grid lines caused by the magnification of the led. Get past that, and it's functional. I tested the lumens against my 300lm streamlight, and it's very close, 225-275lm. I will be purchasing more as the flood focus is just as functional. Great product.\"\"\",\"\"\"Terrible. Did not light up consistently while pushing the button. Both flashlights had the same issue as they would eventually turn on after pushing the button repeatedly (5 or 6 times). These are junk.\"\"\"])))"
   ]
  }
 ],
 "metadata": {
  "kernelspec": {
   "display_name": "Python 2",
   "language": "python",
   "name": "python2"
  },
  "language_info": {
   "codemirror_mode": {
    "name": "ipython",
    "version": 2
   },
   "file_extension": ".py",
   "mimetype": "text/x-python",
   "name": "python",
   "nbconvert_exporter": "python",
   "pygments_lexer": "ipython2",
   "version": "2.7.6"
  }
 },
 "nbformat": 4,
 "nbformat_minor": 0
}
